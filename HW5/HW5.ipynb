{
 "cells": [
  {
   "cell_type": "markdown",
   "metadata": {},
   "source": [
    "# APPM 4560 Homework 5\n",
    "## Soroush Khadem"
   ]
  },
  {
   "cell_type": "code",
   "execution_count": 1,
   "metadata": {
    "collapsed": true
   },
   "outputs": [],
   "source": [
    "import numpy as np\n",
    "import numpy.random as rnd\n",
    "import matplotlib.pyplot as plt"
   ]
  },
  {
   "cell_type": "code",
   "execution_count": 2,
   "metadata": {
    "collapsed": true
   },
   "outputs": [],
   "source": [
    "plt.rcParams['figure.figsize'] = [15, 7]"
   ]
  },
  {
   "cell_type": "markdown",
   "metadata": {},
   "source": [
    "### Problem 6: Simuating Milo's Umbrellas"
   ]
  },
  {
   "cell_type": "code",
   "execution_count": 3,
   "metadata": {
    "collapsed": true
   },
   "outputs": [],
   "source": [
    "def simulate_next_state(probabilities):\n",
    "    u = rnd.uniform()\n",
    "    total_prob = 0\n",
    "    for i, prob in enumerate(probabilities):\n",
    "        total_prob = total_prob + prob\n",
    "        if (u < total_prob):\n",
    "            return i"
   ]
  },
  {
   "cell_type": "code",
   "execution_count": 4,
   "metadata": {
    "collapsed": true
   },
   "outputs": [],
   "source": [
    "P = [[0, 0, 0, 1], [0, 0, 0.8, 0.2], [0, 0.8, 0.2, 0], [0.8, 0.2, 0, 0]] # transition matrix"
   ]
  },
  {
   "cell_type": "code",
   "execution_count": 5,
   "metadata": {
    "collapsed": true
   },
   "outputs": [],
   "source": [
    "timesteps = 1000\n",
    "final_states = []\n",
    "for _ in range(0, 100000):\n",
    "    state = 2\n",
    "    for _ in range(0,timesteps):\n",
    "        state = simulate_next_state(P[state])\n",
    "    \n",
    "    final_states.append(state)"
   ]
  },
  {
   "cell_type": "code",
   "execution_count": 7,
   "metadata": {},
   "outputs": [
    {
     "data": {
      "image/png": "[encoded data removed]",
      "text/plain": [
       "<Figure size 1080x504 with 1 Axes>"
      ]
     },
     "metadata": {
      "needs_background": "light"
     },
     "output_type": "display_data"
    }
   ],
   "source": [
    "bins = np.arange(0, 4 + 1.5) - 0.5\n",
    "fig = plt.figure()\n",
    "plt.grid(True, alpha=0.2)\n",
    "vals, _, _ = plt.hist(final_states, bins, density=True, edgecolor='white')\n",
    "for x,y in zip([0,1,2,3],vals):\n",
    "\n",
    "    label = \"{:.2f}\".format(y)\n",
    "\n",
    "    plt.annotate(label,\n",
    "                 (x,y),\n",
    "                 textcoords=\"offset points\",\n",
    "                 xytext=(0,10),\n",
    "                 ha='center')\n",
    "plt.xticks([0,1,2,3])\n",
    "plt.ylim([0, max(vals + 0.1)])\n",
    "plt.xlim([-0.5, 3.5])\n",
    "plt.show()"
   ]
  }
 ],
 "metadata": {
  "kernelspec": {
   "display_name": "Python 3",
   "language": "python",
   "name": "python3"
  },
  "language_info": {
   "codemirror_mode": {
    "name": "ipython",
    "version": 3
   },
   "file_extension": ".py",
   "mimetype": "text/x-python",
   "name": "python",
   "nbconvert_exporter": "python",
   "pygments_lexer": "ipython3",
   "version": "3.6.1"
  }
 },
 "nbformat": 4,
 "nbformat_minor": 2
}
